{
 "cells": [
  {
   "cell_type": "code",
   "execution_count": 1,
   "metadata": {},
   "outputs": [],
   "source": [
    "import pandas as pd\n",
    "\n",
    "df_tiny = pd.read_pickle('out/DataFrame-Generated-2022-05-12.pkl')\n",
    "df_linx = pd.read_pickle('out/linx.pkl')\n",
    "# Montagem DataFrame\n",
    "df = pd.concat([df_tiny, df_linx], axis=0, ignore_index=True)\n",
    "\n",
    "# Limpeza DataFrame\n",
    "df.drop(columns=['v_frete_avg'], inplace=True)\n",
    "df.drop_duplicates(inplace=True)\n",
    "# Normalização dos dados para Str, já que o Df possui tipos de objetos misturados na mesma coluna.\n",
    "for col in df.columns:\n",
    "    df[col] = df[col].astype(str)\n",
    "\n",
    "df.uf = df.uf.astype('category')\n",
    "df.xml_version = df.xml_version.astype('category')\n",
    "df.tipo_comprador = df.tipo_comprador.astype('category')\n",
    "df.loc[df['tipo_comprador'] == 'idEstrangeiro', 'tipo_comprador'] = 'CPF'\n",
    "\n",
    "# Ajustes das datas\n",
    "## datas que tem \"T\"\n",
    "array_T = df.loc[df['dt_emissao'].str.contains('T', na=False), 'dt_emissao'].str.split('T').str[0]\n",
    "df.loc[df['dt_emissao'].str.contains('T', na=False), 'dt_emissao'] = array_T\n",
    "## Datas com espaços\n",
    "array_space = df.loc[df['dt_emissao'].str.contains(r'\\s', na=False), 'dt_emissao'].str.split(r'\\s').str[0]\n",
    "df.loc[df['dt_emissao'].str.contains(r'\\s', na=False), 'dt_emissao'] = array_space\n",
    "\n",
    "df['dt_emissao'] = pd.to_datetime(df['dt_emissao'])\n",
    "df.sort_values(by='dt_emissao', inplace=True)\n",
    "df['nome_prod'] = df['nome_prod'].str.title()\n",
    "# Ajuste de Col QTD\n",
    "df = df.loc[df['qtd'] != 'Pc']\n",
    "df['qtd'] = df['qtd'].str.split('\\.').str[0].astype(int)\n",
    "df.num_nfe = df.num_nfe.astype(int)\n",
    "\n",
    "# Ajuste de Valores\n",
    "df = df.loc[(df['vl_unit'] != \"UN\") & (df['vl_unit'] != \"Un\") ]\n",
    "df = df.loc[(df['sub_total'] != \"UN\") & (df['sub_total'] != \"Un\") ]\n",
    "df[['vl_unit', 'sub_total']] = df[['vl_unit', 'sub_total']].replace({'\\.':'', ',':''}, regex=True).astype(float) / 100\n",
    "df['sub_total'] = df['vl_unit'] * df['qtd']\n",
    "df.reset_index(inplace=True, drop=True)\n",
    "\n",
    "df.to_pickle('out/Final_df.pkl')"
   ]
  }
 ],
 "metadata": {
  "interpreter": {
   "hash": "f7fd9cf7d0af96bf6b7c3d400e2adcdef29b9e22fce1ee8d8b7109870d93dabb"
  },
  "kernelspec": {
   "display_name": "Python 3.8.5 ('base')",
   "language": "python",
   "name": "python3"
  },
  "language_info": {
   "codemirror_mode": {
    "name": "ipython",
    "version": 3
   },
   "file_extension": ".py",
   "mimetype": "text/x-python",
   "name": "python",
   "nbconvert_exporter": "python",
   "pygments_lexer": "ipython3",
   "version": "3.8.5"
  },
  "orig_nbformat": 4
 },
 "nbformat": 4,
 "nbformat_minor": 2
}
