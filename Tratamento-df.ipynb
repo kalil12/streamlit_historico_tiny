{
 "cells": [
  {
   "cell_type": "code",
   "execution_count": 1,
   "metadata": {},
   "outputs": [],
   "source": [
    "import pandas as pd\n",
    "\n",
    "df_tiny = pd.read_pickle('out/DataFrame-Generated-2022-05-12.pkl')\n",
    "df_linx = pd.read_pickle('out/linx.pkl')\n",
    "# Montagem DataFrame\n",
    "df = pd.concat([df_tiny, df_linx], axis=0, ignore_index=True)\n",
    "\n",
    "# Limpeza DataFrame\n",
    "df.drop(columns=['v_frete_avg'], inplace=True)\n",
    "df.drop_duplicates(inplace=True)\n",
    "# Normalização dos dados para Str, já que o Df possui tipos de objetos misturados na mesma coluna.\n",
    "for col in df.columns:\n",
    "    df[col] = df[col].astype(str)\n",
    "\n",
    "df.uf = df.uf.astype('category')\n",
    "df.xml_version = df.xml_version.astype('category')\n",
    "df.tipo_comprador = df.tipo_comprador.astype('category')\n",
    "df.loc[df['tipo_comprador'] == 'idEstrangeiro', 'tipo_comprador'] = 'CPF'\n",
    "\n",
    "# Ajustes das datas\n",
    "## datas que tem \"T\"\n",
    "array_T = df.loc[df['dt_emissao'].str.contains('T', na=False), 'dt_emissao'].str.split('T').str[0]\n",
    "df.loc[df['dt_emissao'].str.contains('T', na=False), 'dt_emissao'] = array_T\n",
    "## Datas com espaços\n",
    "array_space = df.loc[df['dt_emissao'].str.contains(r'\\s', na=False), 'dt_emissao'].str.split(r'\\s').str[0]\n",
    "df.loc[df['dt_emissao'].str.contains(r'\\s', na=False), 'dt_emissao'] = array_space\n",
    "\n",
    "df['dt_emissao'] = pd.to_datetime(df['dt_emissao'])\n",
    "df.sort_values(by='dt_emissao', inplace=True)\n",
    "df['nome_prod'] = df['nome_prod'].str.title()\n",
    "# Ajuste de Col QTD\n",
    "df = df.loc[df['qtd'] != 'Pc']\n",
    "df['qtd'] = df['qtd'].str.split('\\.').str[0].astype(int)\n",
    "df.num_nfe = df.num_nfe.astype(int)\n",
    "\n",
    "# Ajuste de Valores\n",
    "df = df.loc[(df['vl_unit'] != \"UN\") & (df['vl_unit'] != \"Un\") ]\n",
    "df = df.loc[(df['sub_total'] != \"UN\") & (df['sub_total'] != \"Un\") ]\n",
    "df[['vl_unit', 'sub_total']] = df[['vl_unit', 'sub_total']].replace({'\\.':'', ',':''}, regex=True).astype(float) / 100\n",
    "df['sub_total'] = df['vl_unit'] * df['qtd']\n",
    "df.reset_index(inplace=True, drop=True)\n",
    "\n",
    "df.to_pickle('out/Final_df.pkl')"
   ]
  },
  {
   "cell_type": "code",
   "execution_count": 2,
   "metadata": {},
   "outputs": [
    {
     "data": {
      "text/plain": [
       "'1.4.2'"
      ]
     },
     "execution_count": 2,
     "metadata": {},
     "output_type": "execute_result"
    }
   ],
   "source": [
    "pd.__version__"
   ]
  },
  {
   "cell_type": "code",
   "execution_count": 4,
   "metadata": {},
   "outputs": [
    {
     "name": "stdout",
     "output_type": "stream",
     "text": [
      "Requirement already satisfied: dash in c:\\users\\kalil-casa\\anaconda3\\lib\\site-packages (2.4.1)\n",
      "Requirement already satisfied: plotly>=5.0.0 in c:\\users\\kalil-casa\\anaconda3\\lib\\site-packages (from dash) (5.2.1)\n",
      "Requirement already satisfied: dash-table==5.0.0 in c:\\users\\kalil-casa\\anaconda3\\lib\\site-packages (from dash) (5.0.0)\n",
      "Requirement already satisfied: dash-html-components==2.0.0 in c:\\users\\kalil-casa\\anaconda3\\lib\\site-packages (from dash) (2.0.0)\n",
      "Requirement already satisfied: Flask>=1.0.4 in c:\\users\\kalil-casa\\anaconda3\\lib\\site-packages (from dash) (1.1.2)\n",
      "Requirement already satisfied: dash-core-components==2.0.0 in c:\\users\\kalil-casa\\anaconda3\\lib\\site-packages (from dash) (2.0.0)\n",
      "Requirement already satisfied: flask-compress in c:\\users\\kalil-casa\\anaconda3\\lib\\site-packages (from dash) (1.11)\n",
      "Requirement already satisfied: Werkzeug>=0.15 in c:\\users\\kalil-casa\\anaconda3\\lib\\site-packages (from Flask>=1.0.4->dash) (1.0.1)\n",
      "Requirement already satisfied: Jinja2>=2.10.1 in c:\\users\\kalil-casa\\anaconda3\\lib\\site-packages (from Flask>=1.0.4->dash) (2.11.3)\n",
      "Requirement already satisfied: itsdangerous>=0.24 in c:\\users\\kalil-casa\\anaconda3\\lib\\site-packages (from Flask>=1.0.4->dash) (1.1.0)\n",
      "Requirement already satisfied: click>=5.1 in c:\\users\\kalil-casa\\anaconda3\\lib\\site-packages (from Flask>=1.0.4->dash) (7.1.2)\n",
      "Requirement already satisfied: six in c:\\users\\kalil-casa\\anaconda3\\lib\\site-packages (from plotly>=5.0.0->dash) (1.15.0)\n",
      "Requirement already satisfied: tenacity>=6.2.0 in c:\\users\\kalil-casa\\anaconda3\\lib\\site-packages (from plotly>=5.0.0->dash) (8.0.1)\n",
      "Requirement already satisfied: brotli in c:\\users\\kalil-casa\\anaconda3\\lib\\site-packages (from flask-compress->dash) (1.0.9)\n",
      "Requirement already satisfied: MarkupSafe>=0.23 in c:\\users\\kalil-casa\\anaconda3\\lib\\site-packages (from Jinja2>=2.10.1->Flask>=1.0.4->dash) (1.1.1)\n"
     ]
    }
   ],
   "source": [
    "!pip install --upgrade dash\n"
   ]
  }
 ],
 "metadata": {
  "interpreter": {
   "hash": "f7fd9cf7d0af96bf6b7c3d400e2adcdef29b9e22fce1ee8d8b7109870d93dabb"
  },
  "kernelspec": {
   "display_name": "Python 3.8.5 ('base')",
   "language": "python",
   "name": "python3"
  },
  "language_info": {
   "codemirror_mode": {
    "name": "ipython",
    "version": 3
   },
   "file_extension": ".py",
   "mimetype": "text/x-python",
   "name": "python",
   "nbconvert_exporter": "python",
   "pygments_lexer": "ipython3",
   "version": "3.8.5"
  },
  "orig_nbformat": 4
 },
 "nbformat": 4,
 "nbformat_minor": 2
}
