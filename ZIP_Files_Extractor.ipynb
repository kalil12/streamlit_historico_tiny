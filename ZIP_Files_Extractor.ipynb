{
 "cells": [
  {
   "cell_type": "code",
   "execution_count": 60,
   "metadata": {},
   "outputs": [
    {
     "name": "stdout",
     "output_type": "stream",
     "text": [
      "data\\15-JUN\n",
      "data\\nfes\n"
     ]
    }
   ],
   "source": [
    "import os\n",
    "from zipfile import ZipFile\n",
    "import shutil\n",
    "from glob import glob\n",
    "\n",
    "def xml_extractor():\n",
    "    # Path da pasta de BacKup Tiny, assim não temos dados duplicados\n",
    "    main_path = '..\\\\..\\\\..\\\\Mercadao-Ledland\\\\FINANÇAS e Fiscal\\\\Notas Fiscais Historico XML\\\\Notas TINY'\n",
    "\n",
    "    # Montagem da lista com paths que contêm arquivos \".zip\"\n",
    "    lst_file_path = []\n",
    "    for path, sub_dirs, files in os.walk(main_path): # os.walk(), utiliza 3 níveis.\n",
    "        for f in files:\n",
    "            if f.endswith('.zip'): \n",
    "                file_path = os.path.join(path, f)\n",
    "                lst_file_path.append(file_path)\n",
    " \n",
    "    # Unzip e salva cada arquivo XML na pasta \"data\"\n",
    "    for file_path in lst_file_path:\n",
    "        with ZipFile(file_path, 'r') as zipObj:\n",
    "            # Extract all the contents of zip file in different directory\n",
    "            zipObj.extractall('data')\n",
    "            \n",
    "    # Após a extração das pastas zipadas, aparecem 2 sub-folders com xmls dentro.\n",
    "    # Identificação dos subfolders e salva numa lista\n",
    "    lst_sub_dirs_path = []\n",
    "    for path, sub_dirs, files in os.walk('data'):\n",
    "        for sub_dir in sub_dirs:\n",
    "            sub_dir_path = os.path.join(path, sub_dir)\n",
    "            lst_sub_dirs_path.append(sub_dir_path)\n",
    "\n",
    "    # Muda cada arquivo dos subfolders para a pasta \"data\" \n",
    "    destination = f'{os.getcwd()}\\\\data\\\\'\n",
    "\n",
    "    for dir_ in lst_sub_dirs_path:\n",
    "        source_dir = f'{os.getcwd()}\\\\{dir_}\\\\'\n",
    "        a = os.listdir(dir_)\n",
    "        # Shutil é melhor quer os.rename(), porque sobreescreve arquivos duplicados.\n",
    "        for f in a:\n",
    "            shutil.move(source_dir + f, destination + f)\n",
    "\n",
    "        # Por fim remove os subfolders que ficaram vazios\n",
    "        os.rmdir(dir_)    \n",
    "\n",
    "     # Remoção de notas canceladas e de arquivos csv que foram salvos errados   \n",
    "    arr_canceladas = glob('data/*-procEventoNfe.xml')\n",
    "    for f in arr_canceladas:\n",
    "        os.remove(f)\n",
    "\n",
    "    arr_canceladas_2 = glob('data/*-can.xml')\n",
    "    for f in arr_canceladas_2:\n",
    "        os.remove(f)\n",
    "\n",
    "    arr_csv = glob('data/*.csv')\n",
    "    for f in arr_csv:\n",
    "        os.remove(f) \n",
    "\n",
    "\n",
    "if __name__ == '__main__':\n",
    "    xml_extractor()                "
   ]
  }
 ],
 "metadata": {
  "file_extension": ".py",
  "interpreter": {
   "hash": "43d164e2cb21ef359a9888c2f9fae65dd52cd46857de9f6b7f4a003528788358"
  },
  "kernelspec": {
   "display_name": "Python 3.8.8 ('base')",
   "language": "python",
   "name": "python3"
  },
  "language_info": {
   "codemirror_mode": {
    "name": "ipython",
    "version": 3
   },
   "file_extension": ".py",
   "mimetype": "text/x-python",
   "name": "python",
   "nbconvert_exporter": "python",
   "pygments_lexer": "ipython3",
   "version": "3.8.8"
  },
  "mimetype": "text/x-python",
  "name": "python",
  "npconvert_exporter": "python",
  "orig_nbformat": 2,
  "pygments_lexer": "ipython3",
  "version": 3
 },
 "nbformat": 4,
 "nbformat_minor": 2
}
